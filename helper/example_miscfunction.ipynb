{
 "cells": [
  {
   "cell_type": "heading",
   "metadata": {
    "collapsed": true
   },
   "level": 1,
   "source": [
    "Here we show the functionalities that are present in the class of miscfunctions.\n"
   ]
  },
  {
   "cell_type": "code",
   "execution_count": 11,
   "metadata": {},
   "outputs": [
    {
     "name": "stdout",
     "output_type": "stream",
     "text": [
      "TSNE\n__builtins__\n__cached__\n__doc__\n__file__\n__loader__\n__name__\n__package__\n__spec__\ncluster_diff_list\ncolor_back_red\ncolor_back_red_index\ncompare_dict\ndict_find\ndiff_list\nfind_ngrams\nget_item_occurence\nlinspace\nn_diff_cluster\nnp\nplt\nread_txt_file\nsklearn\nsplit_list_of_list\nsubset_list\ntransform_to_color\n"
     ]
    }
   ],
   "source": [
    "# If you run into trouble using IntelliJ and Jupyter Notebook.. please start a notebook (server) by using the \n",
    "# following command:\n",
    "# jupyter notebook --no-browser --NotebookApp.token='' --NotebookApp.disable_check_xsrf=True\n",
    "\n",
    "import sys\n",
    "sys.path.append(r'D:\\projectcode\\NLP')\n",
    "import helper.miscfunction as misc\n",
    "\n",
    "# Let's start by seeing what is inside the miscfunction library...\n",
    "for i_func in dir(misc):\n",
    "    print(i_func)\n"
   ]
  },
  {
   "cell_type": "code",
   "execution_count": 12,
   "metadata": {},
   "outputs": [
    {
     "name": "stdout",
     "output_type": "stream",
     "text": [
      "\n    Groups a list based on the difference between the value n.\n\n    By default returns the clustered values instead of the index\n\n    :param input_list: list of integers\n    :param return_index: option to get either index or values\n    :param n: the allowed difference between consecutive elements\n    :return:\n    \n[[1, 2, 3, 4, 5], [11, 12, 13, 14, 15]]\n[[0, 1, 2, 3, 4], [5, 6, 7, 8, 9]]\n"
     ]
    }
   ],
   "source": [
    "# n_diff_cluster ------------------------------------\n",
    "print(misc.n_diff_cluster.__doc__)\n",
    "\n",
    "# Sometimes you encounter a problem where you would like to find sequences inside a list of numbers... This can be the\n",
    "#  result of a search function where you say something like\n",
    "# [i for i, x enumerate(y) where x == 2]\n",
    "# Hence, you want *all* the indices where the value in the list equals 2. A normal y.index(2) would not suffice,\n",
    "# because you end up getting only one index..\n",
    "# The result of such a search can be the list shown below\n",
    "input_x = [1, 2, 3, 4, 5, 11, 12, 13, 14, 15]\n",
    "\n",
    "# If you then desire to get every group of '2's inside the list, then you can use te n_diff_cluster function to get\n",
    "# back these values (or indices)!\n",
    "print(list(misc.n_diff_cluster(input_x, n=1, return_index=False)))\n",
    "\n",
    "# If you need to re-iterate over the list in a later stage, in can also be helpful to use\n",
    "print(list(misc.n_diff_cluster(input_x, n=1, return_index=True)))\n"
   ]
  },
  {
   "cell_type": "code",
   "execution_count": 15,
   "metadata": {},
   "outputs": [
    {
     "name": "stdout",
     "output_type": "stream",
     "text": [
      "\n     Because its awesome\n    :param input_list: list of items\n    :param n: size of ngram\n    :return: ngram\n    \n[(1, 2, 3), (2, 3, 4), (3, 4, 5), (4, 5, 11), (5, 11, 12), (11, 12, 13), (12, 13, 14), (13, 14, 15)]\n"
     ]
    }
   ],
   "source": [
    "# find_ngrams ------------------------------------\n",
    "print(misc.find_ngrams.__doc__)\n",
    "# Getting n-grams from list is easy.. you could use the nltk package to use nltk.ngram(...), but that means that you\n",
    "# need to load in the whole ntlk package just for some ngram functionality.. quite an overkill.\n",
    "# Here we manually implemented it, and it works just as expected...\n",
    "input_x = [1, 2, 3, 4, 5, 11, 12, 13, 14, 15]\n",
    "print(list(misc.find_ngrams(input_x, 3)))\n",
    "\n",
    "# Please checkout the implementation of this function as well."
   ]
  },
  {
   "cell_type": "code",
   "execution_count": null,
   "metadata": {},
   "outputs": [],
   "source": [
    "# transform_to_color  ------------------------------------\n",
    "print(misc.transform_to_color.__doc__)\n",
    "# When you need to do a scatter plot (to see if you clustered together the groups well enough), it can be very useful\n",
    "#  to color them in an appropriate way.\n",
    "# This function converts the unique values of a list to a unique color. Then it maps these back to the full list and\n",
    "# returns a list that is equal in length to the input.\n",
    "input_x = [1, 1, 1, 1, 2, 2, 2, 3, 3, 3]\n",
    "print(misc.transform_to_color(input_x))\n"
   ]
  },
  {
   "cell_type": "code",
   "execution_count": null,
   "metadata": {},
   "outputs": [],
   "source": [
    "# diff_list ------------------------------------\n",
    "print(misc.diff_list.__doc__)\n",
    "# Returns the difference between subsequent values in a list.\n",
    "input_x = [1, 1, 1, 1, 2, 2, 2, 3, 3, 3]\n",
    "print(misc.diff_list(input_x))\n"
   ]
  },
  {
   "cell_type": "code",
   "execution_count": 16,
   "metadata": {},
   "outputs": [
    {
     "name": "stdout",
     "output_type": "stream",
     "text": [
      "\n    Formats the background of a string\n\n    :param x: input text\n    :param x_text: piece of text that needs to be highlighted\n    :return: string that, when printed, shows the color red.\n    \nOnce upon a time there was a  \u001b[41mred\u001b[22m  dragon, which ate only  \u001b[41mred\u001b[22m  food, like  \u001b[41mred\u001b[22m  strawberries and  \u001b[41mred\u001b[22m  apples, even  \u001b[41mred\u001b[22m  steak.\nFormats the background of a string by using index instead of text\n"
     ]
    }
   ],
   "source": [
    "# color_back_red ------------------------------------\n",
    "print(misc.color_back_red.__doc__)\n",
    "# Highlighting text can be usefull when you want to be sure that a certain string/sentence is inside a piece of text.\n",
    "#  With this function you can do that...!\n",
    "\n",
    "red_text = misc.color_back_red('Once upon a time there was a red dragon, which ate only red food, '\n",
    "                               'like red strawberries and red apples, even red steak.', 'red')\n",
    "print(red_text)\n",
    "\n",
    "\n",
    "# color_back_red_index ------------------------------------\n",
    "print(misc.color_back_red_index.__doc__)\n",
    "# Sometimes you don't want to specify one piece of text.. but rather certain indices. This allow a more dynamic (and\n",
    "# sparse) way of coloring pieces of text.\n",
    "red_index = [1, 2, 3, 4, 5, 10, 12, 20, 25]\n",
    "red_text = misc.color_back_red_index('Once upon a time there was a red dragon, which ate only red food, '\n",
    "                                     'like red strawberries and red apples, even red steak.', red_index)"
   ]
  },
  {
   "cell_type": "code",
   "execution_count": 7,
   "metadata": {},
   "outputs": [
    {
     "name": "stdout",
     "output_type": "stream",
     "text": [
      "\n    Subsets a list by looking at the length of each element.\n\n    :param y: input list of list\n    :param n_min: the minimum length for a list in the lists\n    :return: index of the succesful  list, and value of them\n    \n"
     ]
    },
    {
     "data": {
      "text/plain": [
       "([1, 2, 3],\n [[0, 1, 2, 3, 4, 5, 6, 7, 8, 9, 10, 11, 12, 13, 14],\n  [0,\n   1,\n   2,\n   3,\n   4,\n   5,\n   6,\n   7,\n   8,\n   9,\n   10,\n   11,\n   12,\n   13,\n   14,\n   15,\n   16,\n   17,\n   18,\n   19,\n   20,\n   21,\n   22,\n   23,\n   24],\n  [0, 1, 2, 3, 4, 5, 6, 7, 8, 9, 10, 11, 12, 13, 14]])"
      ]
     },
     "execution_count": 7,
     "metadata": {},
     "output_type": "execute_result"
    }
   ],
   "source": [
    "# subset_list ------------------------------------\n",
    "print(misc.subset_list.__doc__)\n",
    "# An easy way to subset a list of lists based on their length. Can also be used to subset a list of strings...\n",
    "# returns the index in the list of lists as well as the values themselves.\n",
    "input_x = ['aaaaa', 'bbbbbbbbbbbb', 'ccccccc', 'dd', 'eeeeeeee']\n",
    "misc.subset_list(input_x, 5)\n",
    "\n",
    "input_x = [list(range(5)), list(range(15)), list(range(25)), list(range(15))]\n",
    "misc.subset_list(input_x, 5)"
   ]
  },
  {
   "cell_type": "code",
   "execution_count": 8,
   "metadata": {},
   "outputs": [
    {
     "name": "stdout",
     "output_type": "stream",
     "text": [
      "\n    Returns the difference of a list\n\n    :param input_list: list with numeric values\n    :return: list with numeric values, but\n    \n[0, 0, 0, 1, 0, 0, 1, 0, 0]\n"
     ]
    }
   ],
   "source": [
    "# diff_list ------------------------------------\n",
    "print(misc.diff_list.__doc__)\n",
    "# Returns the difference between subsequent values in a list.\n",
    "input_x = [1, 1, 1, 1, 2, 2, 2, 3, 3, 3]\n",
    "print(misc.diff_list(input_x))"
   ]
  },
  {
   "cell_type": "code",
   "execution_count": 9,
   "metadata": {},
   "outputs": [
    {
     "name": "stdout",
     "output_type": "stream",
     "text": [
      "\n    Used to find the values of a certain key in a nested dict\n\n    :param key:\n    :param dictionary:\n    :return:\n    \n[3, 5, 7]\n"
     ]
    }
   ],
   "source": [
    "# dict_find ------------------------------------\n",
    "print(misc.dict_find.__doc__)\n",
    "# Sometimes you have a nested dict, where each nested dct may use the same key... In order to get all the values \n",
    "# belonging to this nested key, we have this functions!\n",
    "\n",
    "input_x = {'A': {'a1': 3}, 'B': {'a1': 5}, 'C': {'a1': 7}}\n",
    "print(list(misc.dict_find('a1', input_x)))\n"
   ]
  },
  {
   "cell_type": "code",
   "execution_count": null,
   "metadata": {},
   "outputs": [],
   "source": [
    "# read_txt_file ------------------------------\n",
    "# Add some info about this"
   ]
  },
  {
   "cell_type": "code",
   "execution_count": 10,
   "metadata": {},
   "outputs": [
    {
     "name": "stdout",
     "output_type": "stream",
     "text": [
      "([('a', 4), ('b', 3), ('a', 2), ('c', 1)], [0, 0, 0, 0, 1, 1, 1, 2, 2, 3])\n"
     ]
    }
   ],
   "source": [
    "input_x = ['a', 'a', 'a', 'a', 'b', 'b', 'b', 'a', 'a', 'c']\n",
    "y = misc.get_item_occurence(input_x)\n",
    "print(y)\n"
   ]
  }
 ],
 "metadata": {
  "kernelspec": {
   "display_name": "Python 2",
   "language": "python",
   "name": "python2"
  },
  "language_info": {
   "codemirror_mode": {
    "name": "ipython",
    "version": 2
   },
   "file_extension": ".py",
   "mimetype": "text/x-python",
   "name": "python",
   "nbconvert_exporter": "python",
   "pygments_lexer": "ipython2",
   "version": "2.7.6"
  }
 },
 "nbformat": 4,
 "nbformat_minor": 0
}
